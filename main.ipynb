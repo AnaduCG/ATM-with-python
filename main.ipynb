{
 "cells": [
  {
   "cell_type": "code",
   "execution_count": 52,
   "metadata": {},
   "outputs": [
    {
     "name": "stdout",
     "output_type": "stream",
     "text": [
      "You have successfuly deposited 23$ and your new ballance is 33$\n"
     ]
    }
   ],
   "source": [
    "\n",
    "acc_names = ('John', 'James', 'Emeka')\n",
    "\n",
    "acc_details = {\n",
    "    'James': ['123', '100'],\n",
    "    'John': ['1234', '200'],\n",
    "    'Emeka': ['12345', '10'],\n",
    "}\n",
    "\n",
    "\n",
    "u_name = input(\"Enter your acc name \")\n",
    "\n",
    "\n",
    "def begin():\n",
    "    if u_name in acc_names:\n",
    "\n",
    "        atm_pin = input(f\"Welcome {u_name} plaese enter your atm pin \")\n",
    "        if atm_pin == (acc_details[u_name][0]):\n",
    "            options = input(f\"\"\"Welcome {u_name} what would you like to do\n",
    "            1 to check  ballance\n",
    "            2 to deposite\n",
    "            3 to withdraw\n",
    "            0 to exit\n",
    "            \"\"\")\n",
    "            if options == '1':\n",
    "                check_balance()\n",
    "            elif options == '2':\n",
    "                deposite()\n",
    "            elif options == '3':\n",
    "                withdrawal()\n",
    "        else:\n",
    "            print(\"wrong pin\")\n",
    "    else:\n",
    "        print(\"name does not exist in our database\")\n",
    "\n",
    "\n",
    "def withdrawal():\n",
    "    withdrawal_amount = float(input(\"Enter withdrawal amount \"))\n",
    "    if withdrawal_amount < float(acc_details[u_name][1]):\n",
    "        new_bal = float(acc_details[u_name][1]) - withdrawal_amount\n",
    "        print(\n",
    "            f\"Withdrawal of {withdrawal_amount}$ was successful, your new ballance is {new_bal}$\")\n",
    "    else:\n",
    "        print(\"insuficient ballance\")\n",
    "\n",
    "\n",
    "def deposite():\n",
    "    deposite_amount = float(input(\"Enter deposite amount \"))\n",
    "    new_bal = deposite_amount + float(acc_details[u_name][1])\n",
    "    print(\n",
    "        f\"You have successfuly deposited {deposite_amount}$ and your new ballance is {new_bal}$\")\n",
    "\n",
    "\n",
    "def check_balance():\n",
    "    print(f\"Dear {u_name} your account ballance is {acc_details[u_name][1]}$\")\n",
    "\n",
    "\n",
    "# print( type(int(acc_details['James'][0])))\n",
    "begin()\n",
    "# print( acc_details['Emeka'][1])\n"
   ]
  }
 ],
 "metadata": {
  "kernelspec": {
   "display_name": "Python 3",
   "language": "python",
   "name": "python3"
  },
  "language_info": {
   "codemirror_mode": {
    "name": "ipython",
    "version": 3
   },
   "file_extension": ".py",
   "mimetype": "text/x-python",
   "name": "python",
   "nbconvert_exporter": "python",
   "pygments_lexer": "ipython3",
   "version": "3.11.0"
  },
  "orig_nbformat": 4,
  "vscode": {
   "interpreter": {
    "hash": "55d79064c9feea42e3a8cfbb2405178717b1dca6d0bc079cb76543bbdc9394ef"
   }
  }
 },
 "nbformat": 4,
 "nbformat_minor": 2
}
